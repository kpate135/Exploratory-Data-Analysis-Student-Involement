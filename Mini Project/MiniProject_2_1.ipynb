{
 "cells": [
  {
   "cell_type": "code",
   "execution_count": 1,
   "id": "84980e8d-e1bd-4e8c-aa9a-b6bcc4b38eea",
   "metadata": {},
   "outputs": [],
   "source": [
    "import pandas as pd\n",
    "import matplotlib.pyplot as plt\n",
    "import numpy as np\n",
    "import seaborn as sns\n",
    "from scipy.stats import chi2_contingency\n",
    "from scipy.stats import chi2"
   ]
  },
  {
   "cell_type": "markdown",
   "id": "8acc679a-2879-4ffc-88b2-dcd24238f93d",
   "metadata": {},
   "source": [
    "Data Cleaning"
   ]
  },
  {
   "cell_type": "code",
   "execution_count": 2,
   "id": "dc0ff377-96ae-4604-9fff-9552c005bced",
   "metadata": {},
   "outputs": [
    {
     "data": {
      "text/html": [
       "<div>\n",
       "<style scoped>\n",
       "    .dataframe tbody tr th:only-of-type {\n",
       "        vertical-align: middle;\n",
       "    }\n",
       "\n",
       "    .dataframe tbody tr th {\n",
       "        vertical-align: top;\n",
       "    }\n",
       "\n",
       "    .dataframe thead th {\n",
       "        text-align: right;\n",
       "    }\n",
       "</style>\n",
       "<table border=\"1\" class=\"dataframe\">\n",
       "  <thead>\n",
       "    <tr style=\"text-align: right;\">\n",
       "      <th></th>\n",
       "      <th>What is your age?</th>\n",
       "      <th>What gender do you identify as?</th>\n",
       "      <th>What year are you?</th>\n",
       "      <th>How often do you attend office hours?</th>\n",
       "      <th>How often do you attend lectures for your classes?</th>\n",
       "      <th>How often do you ask questions in your lectures?</th>\n",
       "      <th>Do you work on or off campus?</th>\n",
       "      <th>How many extracurricular activities do you partake in? (Clubs/Fraternities, Teams, Sports, Jobs).</th>\n",
       "      <th>How many hours in a typical week do you work?</th>\n",
       "    </tr>\n",
       "  </thead>\n",
       "  <tbody>\n",
       "    <tr>\n",
       "      <th>0</th>\n",
       "      <td>21</td>\n",
       "      <td>Woman</td>\n",
       "      <td>Junior</td>\n",
       "      <td>2</td>\n",
       "      <td>5</td>\n",
       "      <td>2</td>\n",
       "      <td>On campus</td>\n",
       "      <td>1</td>\n",
       "      <td>20</td>\n",
       "    </tr>\n",
       "    <tr>\n",
       "      <th>1</th>\n",
       "      <td>20</td>\n",
       "      <td>Man</td>\n",
       "      <td>Sophomore</td>\n",
       "      <td>1</td>\n",
       "      <td>5</td>\n",
       "      <td>2</td>\n",
       "      <td>Off Campus</td>\n",
       "      <td>2</td>\n",
       "      <td>20</td>\n",
       "    </tr>\n",
       "    <tr>\n",
       "      <th>2</th>\n",
       "      <td>19</td>\n",
       "      <td>Man</td>\n",
       "      <td>Sophomore</td>\n",
       "      <td>2</td>\n",
       "      <td>5</td>\n",
       "      <td>4</td>\n",
       "      <td>0</td>\n",
       "      <td>2</td>\n",
       "      <td>0</td>\n",
       "    </tr>\n",
       "    <tr>\n",
       "      <th>3</th>\n",
       "      <td>20</td>\n",
       "      <td>Man</td>\n",
       "      <td>Junior</td>\n",
       "      <td>3</td>\n",
       "      <td>4</td>\n",
       "      <td>2</td>\n",
       "      <td>Off Campus</td>\n",
       "      <td>1</td>\n",
       "      <td>10</td>\n",
       "    </tr>\n",
       "    <tr>\n",
       "      <th>4</th>\n",
       "      <td>21</td>\n",
       "      <td>Man</td>\n",
       "      <td>Junior</td>\n",
       "      <td>1</td>\n",
       "      <td>5</td>\n",
       "      <td>1</td>\n",
       "      <td>0</td>\n",
       "      <td>0</td>\n",
       "      <td>0</td>\n",
       "    </tr>\n",
       "  </tbody>\n",
       "</table>\n",
       "</div>"
      ],
      "text/plain": [
       "   What is your age? What gender do you identify as? What year are you?  \\\n",
       "0                 21                           Woman             Junior   \n",
       "1                 20                             Man          Sophomore   \n",
       "2                 19                             Man          Sophomore   \n",
       "3                 20                             Man             Junior   \n",
       "4                 21                             Man             Junior   \n",
       "\n",
       "   How often do you attend office hours?  \\\n",
       "0                                      2   \n",
       "1                                      1   \n",
       "2                                      2   \n",
       "3                                      3   \n",
       "4                                      1   \n",
       "\n",
       "   How often do you attend lectures for your classes?  \\\n",
       "0                                                  5    \n",
       "1                                                  5    \n",
       "2                                                  5    \n",
       "3                                                  4    \n",
       "4                                                  5    \n",
       "\n",
       "   How often do you ask questions in your lectures?  \\\n",
       "0                                                 2   \n",
       "1                                                 2   \n",
       "2                                                 4   \n",
       "3                                                 2   \n",
       "4                                                 1   \n",
       "\n",
       "  Do you work on or off campus?  \\\n",
       "0                     On campus   \n",
       "1                    Off Campus   \n",
       "2                             0   \n",
       "3                    Off Campus   \n",
       "4                             0   \n",
       "\n",
       "   How many extracurricular activities do you partake in? (Clubs/Fraternities, Teams, Sports, Jobs).  \\\n",
       "0                                                  1                                                   \n",
       "1                                                  2                                                   \n",
       "2                                                  2                                                   \n",
       "3                                                  1                                                   \n",
       "4                                                  0                                                   \n",
       "\n",
       "   How many hours in a typical week do you work?  \n",
       "0                                             20  \n",
       "1                                             20  \n",
       "2                                              0  \n",
       "3                                             10  \n",
       "4                                              0  "
      ]
     },
     "execution_count": 2,
     "metadata": {},
     "output_type": "execute_result"
    }
   ],
   "source": [
    "df = pd.read_csv(\"survey.csv\")\n",
    "df[\"Do you work on or off campus?\"].fillna(0, inplace = True)\n",
    "df[\"How many extracurricular activities do you partake in? (Clubs/Fraternities, Teams, Sports, Jobs).\"].fillna(0, inplace = True)\n",
    "df[\"How many hours in a typical week do you work?\"].fillna(0, inplace = True)\n",
    "df.at[19, 'How many hours in a typical week do you work?'] = '60'\n",
    "df.at[30, 'How many hours in a typical week do you work?'] = '15'\n",
    "df.at[38, 'How many hours in a typical week do you work?'] = '0'\n",
    "df.at[82, 'How many hours in a typical week do you work?'] = '23'\n",
    "df.at[83, 'How many hours in a typical week do you work?'] = '12'\n",
    "df.at[64, 'How many hours in a typical week do you work?'] = '0'\n",
    "df.at[20, 'How many extracurricular activities do you partake in? (Clubs/Fraternities, Teams, Sports, Jobs).'] = '2'\n",
    "df.at[31, 'How many extracurricular activities do you partake in? (Clubs/Fraternities, Teams, Sports, Jobs).'] = '1'\n",
    "df.at[40, 'How many extracurricular activities do you partake in? (Clubs/Fraternities, Teams, Sports, Jobs).'] = '1'\n",
    "df.at[42, 'How many extracurricular activities do you partake in? (Clubs/Fraternities, Teams, Sports, Jobs).'] = '0'\n",
    "df.at[24, 'How many extracurricular activities do you partake in? (Clubs/Fraternities, Teams, Sports, Jobs).'] = '0'\n",
    "df.at[34, 'How many extracurricular activities do you partake in? (Clubs/Fraternities, Teams, Sports, Jobs).'] = '3'\n",
    "df.at[82, 'How many extracurricular activities do you partake in? (Clubs/Fraternities, Teams, Sports, Jobs).'] = '1'\n",
    "df['How many hours in a typical week do you work?'] = df['How many hours in a typical week do you work?'].astype(int)\n",
    "df['How many extracurricular activities do you partake in? (Clubs/Fraternities, Teams, Sports, Jobs).'] = df['How many extracurricular activities do you partake in? (Clubs/Fraternities, Teams, Sports, Jobs).'].astype(int)\n",
    "df2 = df[['What is your age?', 'What gender do you identify as?', 'What year are you?', 'How often do you attend office hours?', 'How often do you attend lectures for your classes?', 'How often do you ask questions in your lectures?', 'Do you work on or off campus?', 'How many extracurricular activities do you partake in? (Clubs/Fraternities, Teams, Sports, Jobs).', 'How many hours in a typical week do you work?']].copy()\n",
    "df2.head()"
   ]
  },
  {
   "cell_type": "markdown",
   "id": "840be4d9-bc8a-4407-a351-fd8c38596fe6",
   "metadata": {},
   "source": [
    "What data do we have?\n",
    "The data we have measures students’ involvement within school. We gathered how often students attend office hours and lectures, how often they ask questions in class, the number of extra curricular activities they are involved in, if they work a non-academic vs academic job, how many hours "
   ]
  },
  {
   "cell_type": "markdown",
   "id": "caf1b24a-e241-497b-ad5b-d2f5e5b2da15",
   "metadata": {},
   "source": [
    "What would we like to know?\n",
    "How does having an academic vs non-academic job affect involvement in school?"
   ]
  },
  {
   "cell_type": "markdown",
   "id": "50508f31-2773-408c-9529-370c0e02193f",
   "metadata": {},
   "source": [
    "Statistics"
   ]
  },
  {
   "cell_type": "markdown",
   "id": "a7f1d3a5-0281-4bf8-a3c9-8da60c7e3d13",
   "metadata": {},
   "source": [
    "Visualizations"
   ]
  },
  {
   "cell_type": "code",
   "execution_count": 3,
   "id": "61865523-9251-4c81-93b5-754f20a1d6a5",
   "metadata": {},
   "outputs": [
    {
     "name": "stdout",
     "output_type": "stream",
     "text": [
      "Do you work on or off campus?          Off Campus  On campus\n",
      "How often do you attend office hours?                       \n",
      "1                                        0.184211   0.263158\n",
      "2                                        0.157895   0.315789\n",
      "3                                        0.026316   0.052632\n",
      "AxesSubplot(0.125,0.125;0.62x0.755)\n"
     ]
    },
    {
     "data": {
      "image/png": "[encoded data removed]",
      "text/plain": [
       "<Figure size 432x288 with 2 Axes>"
      ]
     },
     "metadata": {
      "needs_background": "light"
     },
     "output_type": "display_data"
    }
   ],
   "source": [
    "df3 = df2\n",
    "index_names = df3[ df3['Do you work on or off campus?'] == 0 ].index\n",
    "df3.drop(index_names, inplace = True)\n",
    "df3.head()\n",
    "officeh = pd.crosstab(df3['How often do you attend office hours?'], df3['Do you work on or off campus?'], normalize = True)\n",
    "print(officeh)\n",
    "print(sns.heatmap(officeh))"
   ]
  },
  {
   "cell_type": "code",
   "execution_count": 4,
   "id": "e898781a-d7e4-4650-9b00-fc83bbd37ce9",
   "metadata": {},
   "outputs": [
    {
     "name": "stdout",
     "output_type": "stream",
     "text": [
      "Do you work on or off campus?                       Off Campus  On campus\n",
      "How often do you attend lectures for your classes?                       \n",
      "2                                                            2          0\n",
      "3                                                            2          3\n",
      "4                                                            3          8\n",
      "5                                                            7         13\n",
      "AxesSubplot(0.125,0.125;0.62x0.755)\n"
     ]
    },
    {
     "data": {
      "image/png": "[encoded data removed]",
      "text/plain": [
       "<Figure size 432x288 with 2 Axes>"
      ]
     },
     "metadata": {
      "needs_background": "light"
     },
     "output_type": "display_data"
    }
   ],
   "source": [
    "lectures = pd.crosstab(df3['How often do you attend lectures for your classes?'], df3['Do you work on or off campus?'])\n",
    "print(lectures)\n",
    "print(sns.heatmap(lectures))"
   ]
  },
  {
   "cell_type": "code",
   "execution_count": 22,
   "id": "d17a208d-27a4-4afb-a060-2604d8b55a2a",
   "metadata": {},
   "outputs": [
    {
     "data": {
      "text/plain": [
       "<AxesSubplot:xlabel='Do you work on or off campus?'>"
      ]
     },
     "execution_count": 22,
     "metadata": {},
     "output_type": "execute_result"
    },
    {
     "data": {
      "image/png": "[encoded data removed]",
      "text/plain": [
       "<Figure size 432x288 with 1 Axes>"
      ]
     },
     "metadata": {
      "needs_background": "light"
     },
     "output_type": "display_data"
    }
   ],
   "source": [
    "X = df3.groupby(\"Do you work on or off campus?\").mean()[\"How often do you attend lectures for your classes?\"]\n",
    "X.plot.bar()"
   ]
  },
  {
   "cell_type": "code",
   "execution_count": 6,
   "id": "68ad7f59-103a-4199-aa1b-498c675cb029",
   "metadata": {},
   "outputs": [
    {
     "name": "stdout",
     "output_type": "stream",
     "text": [
      "Do you work on or off campus?                     Off Campus  On campus\n",
      "How often do you ask questions in your lectures?                       \n",
      "1                                                   0.157895   0.236842\n",
      "2                                                   0.105263   0.263158\n",
      "3                                                   0.052632   0.105263\n",
      "4                                                   0.000000   0.026316\n",
      "5                                                   0.052632   0.000000\n"
     ]
    }
   ],
   "source": [
    "questions = pd.crosstab(df3['How often do you ask questions in your lectures?'], df3['Do you work on or off campus?'], normalize=True)\n",
    "print(questions)"
   ]
  },
  {
   "cell_type": "code",
   "execution_count": 7,
   "id": "3359a163-dfdb-4c5d-8005-8774d32e1d04",
   "metadata": {},
   "outputs": [
    {
     "data": {
      "text/plain": [
       "<seaborn.axisgrid.FacetGrid at 0x129090f2bb0>"
      ]
     },
     "execution_count": 7,
     "metadata": {},
     "output_type": "execute_result"
    },
    {
     "data": {
      "image/png": "[encoded data removed]",
      "text/plain": [
       "<Figure size 360x360 with 1 Axes>"
      ]
     },
     "metadata": {
      "needs_background": "light"
     },
     "output_type": "display_data"
    }
   ],
   "source": [
    "sns.catplot(x='Do you work on or off campus?', y=\"How many extracurricular activities do you partake in? (Clubs/Fraternities, Teams, Sports, Jobs).\", data=df3)"
   ]
  },
  {
   "cell_type": "code",
   "execution_count": 8,
   "id": "dd27ca43",
   "metadata": {},
   "outputs": [
    {
     "data": {
      "image/png": "[encoded data removed]",
      "text/plain": [
       "<Figure size 432x288 with 1 Axes>"
      ]
     },
     "metadata": {
      "needs_background": "light"
     },
     "output_type": "display_data"
    }
   ],
   "source": [
    "df_extra = df2[['How many extracurricular activities do you partake in? (Clubs/Fraternities, Teams, Sports, Jobs).']].copy()\n",
    "df_extra = df_extra.rename(columns={\"How many extracurricular activities do you partake in? (Clubs/Fraternities, Teams, Sports, Jobs).\": \"How many extracurricular activities do you partake in?\"})\n",
    "ax_extra = df_extra.plot.hist(bins=5)"
   ]
  },
  {
   "cell_type": "code",
   "execution_count": 9,
   "id": "2074bbd9",
   "metadata": {},
   "outputs": [
    {
     "data": {
      "image/png": "[encoded data removed]",
      "text/plain": [
       "<Figure size 432x288 with 1 Axes>"
      ]
     },
     "metadata": {
      "needs_background": "light"
     },
     "output_type": "display_data"
    }
   ],
   "source": [
    "df_work = df2[['How many hours in a typical week do you work?']].copy()\n",
    "ax_work = df_work.plot.hist(bins=11)"
   ]
  },
  {
   "cell_type": "code",
   "execution_count": 10,
   "id": "1bfce501",
   "metadata": {},
   "outputs": [
    {
     "data": {
      "image/png": "[encoded data removed]",
      "text/plain": [
       "<Figure size 432x432 with 1 Axes>"
      ]
     },
     "metadata": {
      "needs_background": "light"
     },
     "output_type": "display_data"
    }
   ],
   "source": [
    "df_work = df2[['How many hours in a typical week do you work?']].copy()\n",
    "boxplot = df_work.boxplot(column=['How many hours in a typical week do you work?'], fontsize = 15, figsize=(6,6))  "
   ]
  },
  {
   "cell_type": "code",
   "execution_count": 18,
   "id": "7211619c-1628-4822-b5be-c5bdd63ab621",
   "metadata": {},
   "outputs": [
    {
     "data": {
      "image/png": "[encoded data removed]",
      "text/plain": [
       "<Figure size 432x288 with 1 Axes>"
      ]
     },
     "metadata": {
      "needs_background": "light"
     },
     "output_type": "display_data"
    }
   ],
   "source": [
    "plt.scatter(df['How many extracurricular activities do you partake in? (Clubs/Fraternities, Teams, Sports, Jobs).'], df['How many hours in a typical week do you work?'])\n",
    "plt.show()"
   ]
  },
  {
   "cell_type": "markdown",
   "id": "3a12e024-67f0-417a-a7e1-75e8d0e6dfca",
   "metadata": {},
   "source": [
    "Hypotheses"
   ]
  },
  {
   "cell_type": "markdown",
   "id": "1cb31778-537a-44f9-b593-0515075661ec",
   "metadata": {},
   "source": [
    "Hypothesis 1: Those who have on-campus jobs attend lectures more often than those who have off-campus jobs.\n",
    "Chi Squared Test\n",
    "\n",
    "Hypothesis 2: Those who work more hours in a week have more extracurricular activities that they partake in. \n",
    "Correlation Test\n",
    "\n",
    "Hypothesis 3: Those who have on-campus jobs attend office hours more often than those who have off-campus jobs.\n",
    "Chi Squared Test"
   ]
  },
  {
   "cell_type": "markdown",
   "id": "0fcd98e7-ac17-4087-9a4d-2fe63439875c",
   "metadata": {},
   "source": [
    "Tests"
   ]
  },
  {
   "cell_type": "markdown",
   "id": "12ec6500-0c52-423f-9da3-152b81bba938",
   "metadata": {},
   "source": [
    "Hypothesis 1 Test:"
   ]
  },
  {
   "cell_type": "code",
   "execution_count": 12,
   "id": "8011c728-e87a-4eb6-ac03-43e8d9c3ee2e",
   "metadata": {},
   "outputs": [
    {
     "name": "stdout",
     "output_type": "stream",
     "text": [
      "calculated chi square value:  3.912067099567099\n"
     ]
    }
   ],
   "source": [
    "chi, p, dfree, expected = chi2_contingency(lectures)\n",
    "print(\"calculated chi square value: \" ,chi)"
   ]
  },
  {
   "cell_type": "code",
   "execution_count": 13,
   "id": "4ff05cf3-e735-4bd4-be5c-359e9ca35b86",
   "metadata": {},
   "outputs": [
    {
     "name": "stdout",
     "output_type": "stream",
     "text": [
      "for 3 degree of freedom, the chi-square value needed to reject the hypothesis at the 0.05 significance level:\n"
     ]
    },
    {
     "data": {
      "text/plain": [
       "7.814727903251179"
      ]
     },
     "execution_count": 13,
     "metadata": {},
     "output_type": "execute_result"
    }
   ],
   "source": [
    "print(\"for 3 degree of freedom, the chi-square value needed to reject the hypothesis at the 0.05 significance level:\")\n",
    "chi2.ppf(1-0.05, 3)"
   ]
  },
  {
   "cell_type": "markdown",
   "id": "98c2cb4f-a757-4b9d-a038-4087b9c6851f",
   "metadata": {},
   "source": [
    "Hypothesis 2 Test:"
   ]
  },
  {
   "cell_type": "code",
   "execution_count": 14,
   "id": "d27e298d-fb45-444a-9c91-486096c01344",
   "metadata": {},
   "outputs": [
    {
     "data": {
      "text/plain": [
       "0.09119196084257807"
      ]
     },
     "execution_count": 14,
     "metadata": {},
     "output_type": "execute_result"
    }
   ],
   "source": [
    "df3['How many hours in a typical week do you work?'].corr(df3['How many extracurricular activities do you partake in? (Clubs/Fraternities, Teams, Sports, Jobs).'], method = 'pearson')"
   ]
  },
  {
   "cell_type": "markdown",
   "id": "9c48886d-41b5-4361-bc81-cb756d1b3695",
   "metadata": {},
   "source": [
    "Hypothesis 3 Test:"
   ]
  },
  {
   "cell_type": "code",
   "execution_count": 15,
   "id": "49a1a7df-3cea-49fc-a635-6417a73885f3",
   "metadata": {},
   "outputs": [
    {
     "name": "stdout",
     "output_type": "stream",
     "text": [
      "calculated chi square value:  0.006535947712418299\n"
     ]
    }
   ],
   "source": [
    "chi, p, dfree, expected = chi2_contingency(officeh)\n",
    "print(\"calculated chi square value: \" ,chi)"
   ]
  },
  {
   "cell_type": "code",
   "execution_count": 17,
   "id": "c1d17419-7e77-4ecb-9017-f637cdff457e",
   "metadata": {},
   "outputs": [
    {
     "name": "stdout",
     "output_type": "stream",
     "text": [
      "for 2 degree of freedom, the chi-square value needed to reject the hypothesis at the 0.05 significance level:\n"
     ]
    },
    {
     "data": {
      "text/plain": [
       "5.991464547107979"
      ]
     },
     "execution_count": 17,
     "metadata": {},
     "output_type": "execute_result"
    }
   ],
   "source": [
    "print(\"for 2 degree of freedom, the chi-square value needed to reject the hypothesis at the 0.05 significance level:\")\n",
    "chi2.ppf(1-0.05, 2)"
   ]
  },
  {
   "cell_type": "code",
   "execution_count": 23,
   "id": "a664d128",
   "metadata": {},
   "outputs": [
    {
     "name": "stdout",
     "output_type": "stream",
     "text": [
      "Do you work on or off campus?\n",
      "Off Campus    1.571429\n",
      "On campus     1.666667\n",
      "Name: How often do you attend office hours?, dtype: float64\n"
     ]
    },
    {
     "data": {
      "image/png": "[encoded data removed]",
      "text/plain": [
       "<Figure size 432x288 with 1 Axes>"
      ]
     },
     "metadata": {
      "needs_background": "light"
     },
     "output_type": "display_data"
    }
   ],
   "source": [
    "df_group_OH = df2.groupby(['Do you work on or off campus?']).mean()['How often do you attend office hours?']\n",
    "print(df_group_OH)\n",
    "df_group_OH = df_group_OH.plot.bar()"
   ]
  },
  {
   "cell_type": "code",
   "execution_count": 24,
   "id": "3e07d1d7",
   "metadata": {},
   "outputs": [
    {
     "name": "stdout",
     "output_type": "stream",
     "text": [
      "Do you work on or off campus?\n",
      "Off Campus    2.142857\n",
      "On campus     1.875000\n",
      "Name: How often do you ask questions in your lectures?, dtype: float64\n"
     ]
    },
    {
     "data": {
      "image/png": "[encoded data removed]",
      "text/plain": [
       "<Figure size 432x288 with 1 Axes>"
      ]
     },
     "metadata": {
      "needs_background": "light"
     },
     "output_type": "display_data"
    }
   ],
   "source": [
    "df_group_questions = df2.groupby(['Do you work on or off campus?']).mean()['How often do you ask questions in your lectures?']\n",
    "print(df_group_questions)\n",
    "df_group_questions = df_group_questions.plot.bar()"
   ]
  },
  {
   "cell_type": "code",
   "execution_count": 25,
   "id": "644f1785",
   "metadata": {},
   "outputs": [
    {
     "name": "stdout",
     "output_type": "stream",
     "text": [
      "Do you work on or off campus?\n",
      "Off Campus    1.714286\n",
      "On campus     1.666667\n",
      "Name: How many extracurricular activities do you partake in? (Clubs/Fraternities, Teams, Sports, Jobs)., dtype: float64\n"
     ]
    },
    {
     "data": {
      "image/png": "[encoded data removed]",
      "text/plain": [
       "<Figure size 432x288 with 1 Axes>"
      ]
     },
     "metadata": {
      "needs_background": "light"
     },
     "output_type": "display_data"
    }
   ],
   "source": [
    "df_group_extra = df2.groupby(['Do you work on or off campus?']).mean()['How many extracurricular activities do you partake in? (Clubs/Fraternities, Teams, Sports, Jobs).']\n",
    "print(df_group_extra)\n",
    "df_group_extra = df_group_extra.plot.bar()"
   ]
  },
  {
   "cell_type": "code",
   "execution_count": 26,
   "id": "95bb294f",
   "metadata": {},
   "outputs": [
    {
     "name": "stdout",
     "output_type": "stream",
     "text": [
      "Do you work on or off campus?\n",
      "Off Campus    17.571429\n",
      "On campus     11.250000\n",
      "Name: How many hours in a typical week do you work?, dtype: float64\n"
     ]
    },
    {
     "data": {
      "image/png": "[encoded data removed]",
      "text/plain": [
       "<Figure size 432x288 with 1 Axes>"
      ]
     },
     "metadata": {
      "needs_background": "light"
     },
     "output_type": "display_data"
    }
   ],
   "source": [
    "df_group_work = df2.groupby(['Do you work on or off campus?']).mean()['How many hours in a typical week do you work?']\n",
    "print(df_group_work)\n",
    "df_group_work = df_group_work.plot.bar()"
   ]
  },
  {
   "cell_type": "code",
   "execution_count": null,
   "id": "eecc2289",
   "metadata": {},
   "outputs": [],
   "source": []
  }
 ],
 "metadata": {
  "kernelspec": {
   "display_name": "Python 3 (ipykernel)",
   "language": "python",
   "name": "python3"
  },
  "language_info": {
   "codemirror_mode": {
    "name": "ipython",
    "version": 3
   },
   "file_extension": ".py",
   "mimetype": "text/x-python",
   "name": "python",
   "nbconvert_exporter": "python",
   "pygments_lexer": "ipython3",
   "version": "3.9.7"
  }
 },
 "nbformat": 4,
 "nbformat_minor": 5
}
